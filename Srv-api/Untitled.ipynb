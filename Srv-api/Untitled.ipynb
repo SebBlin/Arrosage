{
 "cells": [
  {
   "cell_type": "code",
   "execution_count": 23,
   "metadata": {},
   "outputs": [],
   "source": [
    "import pandas\n",
    "import json"
   ]
  },
  {
   "cell_type": "code",
   "execution_count": 28,
   "metadata": {},
   "outputs": [],
   "source": [
    "filename = 'data.csv'\n",
    "\n",
    "df = pandas.read_csv(filename, index_col=['idx'], skipinitialspace = True)"
   ]
  },
  {
   "cell_type": "code",
   "execution_count": 29,
   "metadata": {},
   "outputs": [
    {
     "data": {
      "text/html": [
       "<div>\n",
       "<style scoped>\n",
       "    .dataframe tbody tr th:only-of-type {\n",
       "        vertical-align: middle;\n",
       "    }\n",
       "\n",
       "    .dataframe tbody tr th {\n",
       "        vertical-align: top;\n",
       "    }\n",
       "\n",
       "    .dataframe thead th {\n",
       "        text-align: right;\n",
       "    }\n",
       "</style>\n",
       "<table border=\"1\" class=\"dataframe\">\n",
       "  <thead>\n",
       "    <tr style=\"text-align: right;\">\n",
       "      <th></th>\n",
       "      <th>AppointmentId</th>\n",
       "      <th>description</th>\n",
       "      <th>startDate</th>\n",
       "      <th>endDate</th>\n",
       "      <th>AllDay</th>\n",
       "      <th>Text</th>\n",
       "      <th>roomId</th>\n",
       "      <th>recurrenceRule</th>\n",
       "    </tr>\n",
       "    <tr>\n",
       "      <th>idx</th>\n",
       "      <th></th>\n",
       "      <th></th>\n",
       "      <th></th>\n",
       "      <th></th>\n",
       "      <th></th>\n",
       "      <th></th>\n",
       "      <th></th>\n",
       "      <th></th>\n",
       "    </tr>\n",
       "  </thead>\n",
       "  <tbody>\n",
       "    <tr>\n",
       "      <th>1</th>\n",
       "      <td>1</td>\n",
       "      <td>desc1</td>\n",
       "      <td>2020-05-08T15:00:00.000Z</td>\n",
       "      <td>2020-05-08T15:30:00.000Z</td>\n",
       "      <td>False</td>\n",
       "      <td>kj</td>\n",
       "      <td>1</td>\n",
       "      <td>NaN</td>\n",
       "    </tr>\n",
       "    <tr>\n",
       "      <th>2</th>\n",
       "      <td>2</td>\n",
       "      <td>desc2</td>\n",
       "      <td>2020-05-08T16:00:00.000Z</td>\n",
       "      <td>2020-05-08T16:30:00.000Z</td>\n",
       "      <td>False</td>\n",
       "      <td>sqdfqsdkj</td>\n",
       "      <td>2</td>\n",
       "      <td>FREQ=DAILY;COUNT=100</td>\n",
       "    </tr>\n",
       "  </tbody>\n",
       "</table>\n",
       "</div>"
      ],
      "text/plain": [
       "     AppointmentId description                 startDate  \\\n",
       "idx                                                        \n",
       "1                1       desc1  2020-05-08T15:00:00.000Z   \n",
       "2                2       desc2  2020-05-08T16:00:00.000Z   \n",
       "\n",
       "                      endDate  AllDay       Text  roomId        recurrenceRule  \n",
       "idx                                                                             \n",
       "1    2020-05-08T15:30:00.000Z   False         kj       1                   NaN  \n",
       "2    2020-05-08T16:30:00.000Z   False  sqdfqsdkj       2  FREQ=DAILY;COUNT=100  "
      ]
     },
     "execution_count": 29,
     "metadata": {},
     "output_type": "execute_result"
    }
   ],
   "source": [
    "df\n"
   ]
  },
  {
   "cell_type": "code",
   "execution_count": 30,
   "metadata": {},
   "outputs": [],
   "source": [
    "s = df.to_json(orient='records')\n",
    "\n",
    "j = json.loads(s)"
   ]
  },
  {
   "cell_type": "code",
   "execution_count": 31,
   "metadata": {},
   "outputs": [
    {
     "data": {
      "text/plain": [
       "[{'AppointmentId': 1,\n",
       "  'description': 'desc1',\n",
       "  'startDate': '2020-05-08T15:00:00.000Z',\n",
       "  'endDate': '2020-05-08T15:30:00.000Z',\n",
       "  'AllDay': False,\n",
       "  'Text': 'kj',\n",
       "  'roomId': 1,\n",
       "  'recurrenceRule': None},\n",
       " {'AppointmentId': 2,\n",
       "  'description': 'desc2',\n",
       "  'startDate': '2020-05-08T16:00:00.000Z',\n",
       "  'endDate': '2020-05-08T16:30:00.000Z',\n",
       "  'AllDay': False,\n",
       "  'Text': 'sqdfqsdkj',\n",
       "  'roomId': 2,\n",
       "  'recurrenceRule': 'FREQ=DAILY;COUNT=100'}]"
      ]
     },
     "execution_count": 31,
     "metadata": {},
     "output_type": "execute_result"
    }
   ],
   "source": [
    "j"
   ]
  },
  {
   "cell_type": "code",
   "execution_count": null,
   "metadata": {},
   "outputs": [],
   "source": []
  },
  {
   "cell_type": "code",
   "execution_count": null,
   "metadata": {},
   "outputs": [],
   "source": []
  }
 ],
 "metadata": {
  "kernelspec": {
   "display_name": "Python 3",
   "language": "python",
   "name": "python3"
  },
  "language_info": {
   "codemirror_mode": {
    "name": "ipython",
    "version": 3
   },
   "file_extension": ".py",
   "mimetype": "text/x-python",
   "name": "python",
   "nbconvert_exporter": "python",
   "pygments_lexer": "ipython3",
   "version": "3.7.3"
  }
 },
 "nbformat": 4,
 "nbformat_minor": 4
}
